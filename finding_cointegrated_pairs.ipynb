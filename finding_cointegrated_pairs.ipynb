{
 "cells": [
  {
   "cell_type": "code",
   "execution_count": 1,
   "metadata": {},
   "outputs": [],
   "source": [
    "from data_processor import DataProcessor\n",
    "\n",
    "import pandas as pd\n",
    "\n",
    "from utils import *"
   ]
  },
  {
   "cell_type": "code",
   "execution_count": 2,
   "metadata": {},
   "outputs": [],
   "source": [
    "# Loading the training data (2017 to 2022)\n",
    "DATA = pd.read_csv('./data/closing_prices.csv').set_index('Date')"
   ]
  },
  {
   "cell_type": "code",
   "execution_count": 3,
   "metadata": {},
   "outputs": [
    {
     "name": "stdout",
     "output_type": "stream",
     "text": [
      "Pair (ADANIPORTS, APOLLOHOSP) is cointegrated (99% confidence)\n",
      "Pair (ADANIPORTS, BAJAJ-AUTO) is cointegrated (99% confidence)\n",
      "Pair (ADANIPORTS, CIPLA) is cointegrated (99% confidence)\n",
      "Pair (ADANIPORTS, JSWSTEEL) is cointegrated (99% confidence)\n",
      "Pair (ADANIPORTS, ULTRACEMCO) is cointegrated (99% confidence)\n",
      "Pair (APOLLOHOSP, ASIANPAINT) is cointegrated (99% confidence)\n",
      "Pair (APOLLOHOSP, BAJAJFINSV) is cointegrated (99% confidence)\n",
      "Pair (APOLLOHOSP, HCLTECH) is cointegrated (99% confidence)\n",
      "Pair (APOLLOHOSP, HDFCBANK) is cointegrated (99% confidence)\n",
      "Pair (APOLLOHOSP, INFY) is cointegrated (99% confidence)\n",
      "Pair (APOLLOHOSP, TITAN) is cointegrated (99% confidence)\n",
      "Pair (APOLLOHOSP, ULTRACEMCO) is cointegrated (99% confidence)\n",
      "Pair (ASIANPAINT, BAJFINANCE) is cointegrated (99% confidence)\n",
      "Pair (ASIANPAINT, HCLTECH) is cointegrated (99% confidence)\n",
      "Pair (ASIANPAINT, HDFCBANK) is cointegrated (99% confidence)\n",
      "Pair (ASIANPAINT, INFY) is cointegrated (99% confidence)\n",
      "Pair (ASIANPAINT, KOTAKBANK) is cointegrated (99% confidence)\n",
      "Pair (ASIANPAINT, TCS) is cointegrated (99% confidence)\n",
      "Pair (ASIANPAINT, TATACONSUM) is cointegrated (99% confidence)\n",
      "Pair (BAJFINANCE, HCLTECH) is cointegrated (99% confidence)\n",
      "Pair (BAJFINANCE, INFY) is cointegrated (99% confidence)\n",
      "Pair (BAJFINANCE, KOTAKBANK) is cointegrated (99% confidence)\n",
      "Pair (BAJFINANCE, TCS) is cointegrated (99% confidence)\n",
      "Pair (EICHERMOT, MARUTI) is cointegrated (99% confidence)\n",
      "Pair (GRASIM, HINDALCO) is cointegrated (99% confidence)\n",
      "Pair (GRASIM, POWERGRID) is cointegrated (99% confidence)\n",
      "Pair (GRASIM, TATAMOTORS) is cointegrated (99% confidence)\n",
      "Pair (HCLTECH, HDFCBANK) is cointegrated (99% confidence)\n",
      "Pair (HCLTECH, INFY) is cointegrated (99% confidence)\n",
      "Pair (HCLTECH, ULTRACEMCO) is cointegrated (99% confidence)\n",
      "Pair (HDFCBANK, KOTAKBANK) is cointegrated (99% confidence)\n",
      "Pair (HDFCBANK, TCS) is cointegrated (99% confidence)\n",
      "Pair (HINDALCO, POWERGRID) is cointegrated (99% confidence)\n",
      "Pair (HINDALCO, TATASTEEL) is cointegrated (99% confidence)\n",
      "Pair (HINDUNILVR, KOTAKBANK) is cointegrated (99% confidence)\n",
      "Pair (HINDUNILVR, NESTLEIND) is cointegrated (99% confidence)\n",
      "Pair (ICICIBANK, TITAN) is cointegrated (99% confidence)\n",
      "Pair (ICICIBANK, TRENT) is cointegrated (99% confidence)\n",
      "Pair (INFY, TCS) is cointegrated (99% confidence)\n",
      "Pair (INFY, ULTRACEMCO) is cointegrated (99% confidence)\n",
      "Pair (KOTAKBANK, TCS) is cointegrated (99% confidence)\n",
      "Pair (POWERGRID, SBIN) is cointegrated (99% confidence)\n",
      "Pair (POWERGRID, SUNPHARMA) is cointegrated (99% confidence)\n"
     ]
    }
   ],
   "source": [
    "# Get the list of stock tickers\n",
    "TICKERS = DATA.columns\n",
    "\n",
    "# Split training data (2017 to 2022) from the corpus\n",
    "\n",
    "TRAINING_DATA = DATA[:'2023-01-01']\n",
    "TESTING_DATA = DATA['2023-01-01':]\n",
    "\n",
    "# Store all the cointegrated pairs and their regression models in this list\n",
    "COINTEGRATED_PAIR_MODELS = []\n",
    "\n",
    "for ticker1_index in range(len(TICKERS) - 1):\n",
    "    for ticker2_index in range(ticker1_index + 1, len(TICKERS)):\n",
    "        try:\n",
    "            ticker1 = TICKERS[ticker1_index]\n",
    "            ticker2 = TICKERS[ticker2_index]\n",
    "\n",
    "            ticker1_data = TRAINING_DATA[ticker1]\n",
    "            ticker2_data = TRAINING_DATA[ticker2]\n",
    "\n",
    "            # Retrieve model \n",
    "            model = get_regression_model(ticker1_data, ticker2_data)\n",
    "\n",
    "            # Get residuals to test for stationarity\n",
    "            residuals = model.resid\n",
    "\n",
    "            # Gauge cointegration by performing the AdFuller test with a confidence level of 99%\n",
    "            if passes_adfuller_test(residuals, alpha=0.01):\n",
    "                # If test passes then add the pair to the list\n",
    "                print (f'Pair ({ticker1}, {ticker2}) is cointegrated (99% confidence)')\n",
    "                COINTEGRATED_PAIR_MODELS.append({\n",
    "                    'pair': f\"{ticker1}:{ticker2}\",\n",
    "                    'ticker1': ticker1,\n",
    "                    'ticker2': ticker2,\n",
    "                    'model': model\n",
    "                })\n",
    "        \n",
    "        except Exception as err:\n",
    "            print (err)\n"
   ]
  },
  {
   "cell_type": "code",
   "execution_count": 4,
   "metadata": {},
   "outputs": [],
   "source": [
    "PAIRS_TO_BACKTEST = [\n",
    "    'ADANIPORTS:JSWSTEEL',\n",
    "    'APOLLOHOSP:HDFCBANK',\n",
    "    'ASIANPAINT:BAJFINANCE',\n",
    "    'BAJFINANCE:KOTAKBANK',\n",
    "    'EICHERMOT:MARUTI',\n",
    "    'GRASIM:POWERGRID',\n",
    "    'HCLTECH:INFY',\n",
    "    'INFY:TCS',\n",
    "    'ICICIBANK:TITAN',\n",
    "    'POWERGRID:SUNPHARMA'\n",
    "]"
   ]
  },
  {
   "cell_type": "code",
   "execution_count": 5,
   "metadata": {},
   "outputs": [],
   "source": [
    "BACKTESTING_DATA = pd.DataFrame()\n",
    "\n",
    "for coint_pair_dict in COINTEGRATED_PAIR_MODELS:\n",
    "    if coint_pair_dict['pair'] not in PAIRS_TO_BACKTEST:\n",
    "        continue\n",
    "\n",
    "    ticker1 = coint_pair_dict['ticker1']\n",
    "    ticker2 = coint_pair_dict['ticker2']\n",
    "    model = coint_pair_dict['model']\n",
    "    \n",
    "    closing_prices = TESTING_DATA[[ticker1, ticker2]]\n",
    "                \n",
    "    data = DataProcessor.get_processed_data(\n",
    "        pair_tickers=[ticker1, ticker2],\n",
    "        pair_closing_prices=closing_prices,\n",
    "        pair_regression_model=model\n",
    "    )\n",
    "\n",
    "    if len(BACKTESTING_DATA) == 0:\n",
    "        BACKTESTING_DATA = data\n",
    "        \n",
    "    else:\n",
    "        if ticker1 in BACKTESTING_DATA.columns: data = data.drop(columns=[ticker1])\n",
    "        if ticker2 in BACKTESTING_DATA.columns: data = data.drop(columns=[ticker2])    \n",
    "\n",
    "        BACKTESTING_DATA = pd.merge(\n",
    "            left=BACKTESTING_DATA,\n",
    "            left_index=True,\n",
    "            right=data.drop(columns=['date']),\n",
    "            right_index=True\n",
    "        )"
   ]
  },
  {
   "cell_type": "code",
   "execution_count": 6,
   "metadata": {},
   "outputs": [],
   "source": [
    "BACKTESTING_DATA['date'] = pd.to_datetime(BACKTESTING_DATA['date'])"
   ]
  },
  {
   "cell_type": "code",
   "execution_count": 7,
   "metadata": {},
   "outputs": [],
   "source": [
    "BACKTESTING_DATA.to_csv('./data/backtesting_data.csv', index=False)"
   ]
  }
 ],
 "metadata": {
  "kernelspec": {
   "display_name": ".venv",
   "language": "python",
   "name": "python3"
  },
  "language_info": {
   "codemirror_mode": {
    "name": "ipython",
    "version": 3
   },
   "file_extension": ".py",
   "mimetype": "text/x-python",
   "name": "python",
   "nbconvert_exporter": "python",
   "pygments_lexer": "ipython3",
   "version": "3.11.9"
  }
 },
 "nbformat": 4,
 "nbformat_minor": 2
}
